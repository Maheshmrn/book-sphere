{
  "nbformat": 4,
  "nbformat_minor": 0,
  "metadata": {
    "colab": {
      "provenance": [],
      "authorship_tag": "ABX9TyPeqgWsglu1ZXgx2ZOyQ8tt",
      "include_colab_link": true
    },
    "kernelspec": {
      "name": "python3",
      "display_name": "Python 3"
    },
    "language_info": {
      "name": "python"
    }
  },
  "cells": [
    {
      "cell_type": "markdown",
      "metadata": {
        "id": "view-in-github",
        "colab_type": "text"
      },
      "source": [
        "<a href=\"https://colab.research.google.com/github/Maheshmrn/book-sphere/blob/main/FinalBookSphere.ipynb\" target=\"_parent\"><img src=\"https://colab.research.google.com/assets/colab-badge.svg\" alt=\"Open In Colab\"/></a>"
      ]
    },
    {
      "cell_type": "code",
      "execution_count": 1,
      "metadata": {
        "colab": {
          "base_uri": "https://localhost:8080/"
        },
        "id": "4Nory2aEnMwP",
        "outputId": "153d0df8-aee7-4045-c07c-e94537a4ff4a"
      },
      "outputs": [
        {
          "output_type": "stream",
          "name": "stdout",
          "text": [
            "Collecting streamlit\n",
            "  Downloading streamlit-1.44.1-py3-none-any.whl.metadata (8.9 kB)\n",
            "Collecting pyngrok\n",
            "  Downloading pyngrok-7.2.4-py3-none-any.whl.metadata (8.7 kB)\n",
            "Requirement already satisfied: altair<6,>=4.0 in /usr/local/lib/python3.11/dist-packages (from streamlit) (5.5.0)\n",
            "Requirement already satisfied: blinker<2,>=1.0.0 in /usr/local/lib/python3.11/dist-packages (from streamlit) (1.9.0)\n",
            "Requirement already satisfied: cachetools<6,>=4.0 in /usr/local/lib/python3.11/dist-packages (from streamlit) (5.5.2)\n",
            "Requirement already satisfied: click<9,>=7.0 in /usr/local/lib/python3.11/dist-packages (from streamlit) (8.1.8)\n",
            "Requirement already satisfied: numpy<3,>=1.23 in /usr/local/lib/python3.11/dist-packages (from streamlit) (2.0.2)\n",
            "Requirement already satisfied: packaging<25,>=20 in /usr/local/lib/python3.11/dist-packages (from streamlit) (24.2)\n",
            "Requirement already satisfied: pandas<3,>=1.4.0 in /usr/local/lib/python3.11/dist-packages (from streamlit) (2.2.2)\n",
            "Requirement already satisfied: pillow<12,>=7.1.0 in /usr/local/lib/python3.11/dist-packages (from streamlit) (11.1.0)\n",
            "Requirement already satisfied: protobuf<6,>=3.20 in /usr/local/lib/python3.11/dist-packages (from streamlit) (5.29.4)\n",
            "Requirement already satisfied: pyarrow>=7.0 in /usr/local/lib/python3.11/dist-packages (from streamlit) (18.1.0)\n",
            "Requirement already satisfied: requests<3,>=2.27 in /usr/local/lib/python3.11/dist-packages (from streamlit) (2.32.3)\n",
            "Requirement already satisfied: tenacity<10,>=8.1.0 in /usr/local/lib/python3.11/dist-packages (from streamlit) (9.1.2)\n",
            "Requirement already satisfied: toml<2,>=0.10.1 in /usr/local/lib/python3.11/dist-packages (from streamlit) (0.10.2)\n",
            "Requirement already satisfied: typing-extensions<5,>=4.4.0 in /usr/local/lib/python3.11/dist-packages (from streamlit) (4.13.1)\n",
            "Collecting watchdog<7,>=2.1.5 (from streamlit)\n",
            "  Downloading watchdog-6.0.0-py3-none-manylinux2014_x86_64.whl.metadata (44 kB)\n",
            "\u001b[2K     \u001b[90m━━━━━━━━━━━━━━━━━━━━━━━━━━━━━━━━━━━━━━━━\u001b[0m \u001b[32m44.3/44.3 kB\u001b[0m \u001b[31m1.2 MB/s\u001b[0m eta \u001b[36m0:00:00\u001b[0m\n",
            "\u001b[?25hRequirement already satisfied: gitpython!=3.1.19,<4,>=3.0.7 in /usr/local/lib/python3.11/dist-packages (from streamlit) (3.1.44)\n",
            "Collecting pydeck<1,>=0.8.0b4 (from streamlit)\n",
            "  Downloading pydeck-0.9.1-py2.py3-none-any.whl.metadata (4.1 kB)\n",
            "Requirement already satisfied: tornado<7,>=6.0.3 in /usr/local/lib/python3.11/dist-packages (from streamlit) (6.4.2)\n",
            "Requirement already satisfied: PyYAML>=5.1 in /usr/local/lib/python3.11/dist-packages (from pyngrok) (6.0.2)\n",
            "Requirement already satisfied: jinja2 in /usr/local/lib/python3.11/dist-packages (from altair<6,>=4.0->streamlit) (3.1.6)\n",
            "Requirement already satisfied: jsonschema>=3.0 in /usr/local/lib/python3.11/dist-packages (from altair<6,>=4.0->streamlit) (4.23.0)\n",
            "Requirement already satisfied: narwhals>=1.14.2 in /usr/local/lib/python3.11/dist-packages (from altair<6,>=4.0->streamlit) (1.34.1)\n",
            "Requirement already satisfied: gitdb<5,>=4.0.1 in /usr/local/lib/python3.11/dist-packages (from gitpython!=3.1.19,<4,>=3.0.7->streamlit) (4.0.12)\n",
            "Requirement already satisfied: python-dateutil>=2.8.2 in /usr/local/lib/python3.11/dist-packages (from pandas<3,>=1.4.0->streamlit) (2.8.2)\n",
            "Requirement already satisfied: pytz>=2020.1 in /usr/local/lib/python3.11/dist-packages (from pandas<3,>=1.4.0->streamlit) (2025.2)\n",
            "Requirement already satisfied: tzdata>=2022.7 in /usr/local/lib/python3.11/dist-packages (from pandas<3,>=1.4.0->streamlit) (2025.2)\n",
            "Requirement already satisfied: charset-normalizer<4,>=2 in /usr/local/lib/python3.11/dist-packages (from requests<3,>=2.27->streamlit) (3.4.1)\n",
            "Requirement already satisfied: idna<4,>=2.5 in /usr/local/lib/python3.11/dist-packages (from requests<3,>=2.27->streamlit) (3.10)\n",
            "Requirement already satisfied: urllib3<3,>=1.21.1 in /usr/local/lib/python3.11/dist-packages (from requests<3,>=2.27->streamlit) (2.3.0)\n",
            "Requirement already satisfied: certifi>=2017.4.17 in /usr/local/lib/python3.11/dist-packages (from requests<3,>=2.27->streamlit) (2025.1.31)\n",
            "Requirement already satisfied: smmap<6,>=3.0.1 in /usr/local/lib/python3.11/dist-packages (from gitdb<5,>=4.0.1->gitpython!=3.1.19,<4,>=3.0.7->streamlit) (5.0.2)\n",
            "Requirement already satisfied: MarkupSafe>=2.0 in /usr/local/lib/python3.11/dist-packages (from jinja2->altair<6,>=4.0->streamlit) (3.0.2)\n",
            "Requirement already satisfied: attrs>=22.2.0 in /usr/local/lib/python3.11/dist-packages (from jsonschema>=3.0->altair<6,>=4.0->streamlit) (25.3.0)\n",
            "Requirement already satisfied: jsonschema-specifications>=2023.03.6 in /usr/local/lib/python3.11/dist-packages (from jsonschema>=3.0->altair<6,>=4.0->streamlit) (2024.10.1)\n",
            "Requirement already satisfied: referencing>=0.28.4 in /usr/local/lib/python3.11/dist-packages (from jsonschema>=3.0->altair<6,>=4.0->streamlit) (0.36.2)\n",
            "Requirement already satisfied: rpds-py>=0.7.1 in /usr/local/lib/python3.11/dist-packages (from jsonschema>=3.0->altair<6,>=4.0->streamlit) (0.24.0)\n",
            "Requirement already satisfied: six>=1.5 in /usr/local/lib/python3.11/dist-packages (from python-dateutil>=2.8.2->pandas<3,>=1.4.0->streamlit) (1.17.0)\n",
            "Downloading streamlit-1.44.1-py3-none-any.whl (9.8 MB)\n",
            "\u001b[2K   \u001b[90m━━━━━━━━━━━━━━━━━━━━━━━━━━━━━━━━━━━━━━━━\u001b[0m \u001b[32m9.8/9.8 MB\u001b[0m \u001b[31m17.0 MB/s\u001b[0m eta \u001b[36m0:00:00\u001b[0m\n",
            "\u001b[?25hDownloading pyngrok-7.2.4-py3-none-any.whl (23 kB)\n",
            "Downloading pydeck-0.9.1-py2.py3-none-any.whl (6.9 MB)\n",
            "\u001b[2K   \u001b[90m━━━━━━━━━━━━━━━━━━━━━━━━━━━━━━━━━━━━━━━━\u001b[0m \u001b[32m6.9/6.9 MB\u001b[0m \u001b[31m19.7 MB/s\u001b[0m eta \u001b[36m0:00:00\u001b[0m\n",
            "\u001b[?25hDownloading watchdog-6.0.0-py3-none-manylinux2014_x86_64.whl (79 kB)\n",
            "\u001b[2K   \u001b[90m━━━━━━━━━━━━━━━━━━━━━━━━━━━━━━━━━━━━━━━━\u001b[0m \u001b[32m79.1/79.1 kB\u001b[0m \u001b[31m4.5 MB/s\u001b[0m eta \u001b[36m0:00:00\u001b[0m\n",
            "\u001b[?25hInstalling collected packages: watchdog, pyngrok, pydeck, streamlit\n",
            "Successfully installed pydeck-0.9.1 pyngrok-7.2.4 streamlit-1.44.1 watchdog-6.0.0\n"
          ]
        }
      ],
      "source": [
        "!pip install streamlit pyngrok"
      ]
    },
    {
      "cell_type": "code",
      "source": [
        "from google.colab import drive\n",
        "drive.mount('/content/drive')"
      ],
      "metadata": {
        "colab": {
          "base_uri": "https://localhost:8080/"
        },
        "id": "EvEE6HbR2e3t",
        "outputId": "31634249-ad69-4f7d-d289-4a25fe98e617"
      },
      "execution_count": 2,
      "outputs": [
        {
          "output_type": "stream",
          "name": "stdout",
          "text": [
            "Mounted at /content/drive\n"
          ]
        }
      ]
    },
    {
      "cell_type": "code",
      "source": [
        "with open(\"app.py\", \"w\") as f:\n",
        "    f.write(\"\"\"\n",
        "import streamlit as st\n",
        "import pandas as pd\n",
        "import numpy as np\n",
        "from sklearn.metrics.pairwise import cosine_similarity\n",
        "rating = pd.read_csv('/content/drive/MyDrive/Ratings.csv.zip')\n",
        "books = pd.read_csv('/content/drive/MyDrive/Books.csv.zip')\n",
        "rating_with_name = rating.merge(books,on='ISBN')\n",
        "#popularity based code\n",
        "num_rating = rating_with_name.groupby('Book-Title').count()['Book-Rating'].reset_index()\n",
        "num_rating.rename(columns={'Book-Rating' : 'num-rating'}, inplace = True)\n",
        "avg_rating = rating_with_name.groupby('Book-Title')['Book-Rating'].mean().reset_index()\n",
        "avg_rating.rename(columns={'Book-Rating' : 'avg-rating'},inplace = True)\n",
        "popular_books = num_rating.merge(avg_rating, on = 'Book-Title')\n",
        "popular_books = popular_books[popular_books['num-rating']>=250].sort_values('avg-rating',ascending= False).head(50)\n",
        "popular_books = popular_books.merge(books, on = 'Book-Title').drop_duplicates('Book-Title')[['Book-Title','Book-Author','Image-URL-M','num-rating','avg-rating']]\n",
        "#collaborative based code\n",
        "x = rating_with_name.groupby('User-ID').count()['Book-Rating'] >= 200\n",
        "most_rating_users = x[x].index\n",
        "filtered_rating = rating_with_name[rating_with_name['User-ID'].isin(most_rating_users)]\n",
        "y = filtered_rating.groupby('Book-Title').count()['Book-Rating'] >= 50\n",
        "famous_books = y[y].index\n",
        "final_rating = filtered_rating[filtered_rating['Book-Title'].isin(famous_books)]\n",
        "pt = final_rating.pivot_table(index='Book-Title', columns='User-ID', values='Book-Rating')\n",
        "pt.fillna(0, inplace=True)\n",
        "similar_scores = cosine_similarity(pt)\n",
        "# collabative-based function\n",
        "def bookSphere(book_name):\n",
        "    index = np.where(pt.index == book_name)[0][0]\n",
        "    similar_books = sorted(list(enumerate(similar_scores[index])), key=lambda x:x[1], reverse=True)[1:12]\n",
        "    results = []\n",
        "    for i in similar_books:\n",
        "        books1 = books[books['Book-Title'] == pt.index[i[0]]]\n",
        "        book_info = []\n",
        "        book_info.extend(list(books1.drop_duplicates('Book-Title')['Book-Title'].values))\n",
        "        book_info.extend(list(books1.drop_duplicates('Book-Title')['Book-Author'].values))\n",
        "        book_info.extend(list(books1.drop_duplicates('Book-Title')['Image-URL-M'].values))\n",
        "        results.append(book_info)\n",
        "    return results\n",
        "# Popularity-based function\n",
        "def popular_books_list():\n",
        "    results = []\n",
        "    for title in popular_books['Book-Title']:\n",
        "        books1 = books[books['Book-Title'] == title].drop_duplicates('Book-Title')\n",
        "        book_info = []\n",
        "        book_info.extend(list(books1['Book-Title'].values))\n",
        "        book_info.extend(list(books1['Book-Author'].values))\n",
        "        book_info.extend(list(books1['Image-URL-M'].values))\n",
        "        results.append(book_info)\n",
        "    return results\n",
        "# Streamlit UI\n",
        "st.set_page_config(page_title=\"📚 BookSphere\", layout=\"wide\")\n",
        "st.title(\"📚 BookSphere\")\n",
        "st.subheader(\"Smart Book Recommendations with AI\")\n",
        "book_list = pt.index.sort_values().tolist()\n",
        "book_list.insert(0, \"\")\n",
        "col1, col2 = st.columns([1, 9])\n",
        "with col1:\n",
        "    if st.button(\"🏠 Home\"):\n",
        "      st.session_state.selected_book = \"\"\n",
        "      st.rerun()\n",
        "if 'history' not in st.session_state:\n",
        "    st.session_state.history = []\n",
        "if 'selected_book' not in st.session_state:\n",
        "    st.session_state.selected_book = \"\"\n",
        "typed_book = st.text_input(\"Start typing...\", \"\")\n",
        "matching_books = [title for title in pt.index if typed_book.lower() in title.lower()]\n",
        "selected = None\n",
        "if typed_book.strip() and matching_books:\n",
        "    st.markdown(\"📚 Suggestions:\")\n",
        "    for mbook in matching_books[:5]:\n",
        "        if st.button(mbook):\n",
        "            st.session_state.selected_book = mbook\n",
        "            selected = mbook\n",
        "book_to_search = st.session_state.selected_book or typed_book\n",
        "show_recommendation = st.button(\"Get Recommendations\")\n",
        "if st.button(\"🗑️ Clear Search History\"):\n",
        "    st.session_state.history = []\n",
        "if show_recommendation and book_to_search.strip() != \"\":\n",
        "    if book_to_search not in st.session_state.history:\n",
        "        st.session_state.history.append(book_to_search)\n",
        "    st.subheader(f\"📘 Books similar to '{book_to_search}'\")\n",
        "    try:\n",
        "        recs = bookSphere(book_to_search)\n",
        "        cols = st.columns(3)\n",
        "        for idx, book in enumerate(recs):\n",
        "            title, author, img = book\n",
        "            with cols[idx % 3]:\n",
        "                st.image(img, width=150)\n",
        "                st.markdown(f\"{title}\")\n",
        "                st.markdown(f\"{author}\")\n",
        "                search_url = f\"https://www.goodreads.com/search?q={title.replace(' ', '+')}\"\n",
        "                st.markdown(f\"[🔗 More Info]({search_url})\", unsafe_allow_html=True)\n",
        "    except:\n",
        "        st.error(\"Book not found or not enough data.\")\n",
        "elif not book_to_search:\n",
        "    st.subheader(\"🔥 Most Popular Books Right Now\")\n",
        "    pop_recs = popular_books_list()\n",
        "    cols = st.columns(4)\n",
        "    for idx, book in enumerate(pop_recs):\n",
        "        title, author, img = book\n",
        "        with cols[idx % 4]:\n",
        "            st.image(img, width=150)\n",
        "            st.markdown(f\"{title}\")\n",
        "            st.markdown(f\"{author}\")\n",
        "            search_url = f\"https://www.goodreads.com/search?q={title.replace(' ', '+')}\"\n",
        "            st.markdown(f\"[🔗 More Info]({search_url})\", unsafe_allow_html=True)\n",
        "if st.session_state.history:\n",
        "    st.markdown(\"🕘 Recently Searched:\")\n",
        "    for recent in reversed(st.session_state.history[-5:]):\n",
        "        st.markdown(f\"🔹{recent}\")\n",
        "\"\"\")"
      ],
      "metadata": {
        "id": "ynsf1k0U2xKm"
      },
      "execution_count": 124,
      "outputs": []
    },
    {
      "cell_type": "code",
      "source": [
        "!pkill streamlit\n",
        "!killall ngrok"
      ],
      "metadata": {
        "id": "S2exeWZP40Xh"
      },
      "execution_count": 125,
      "outputs": []
    },
    {
      "cell_type": "code",
      "source": [
        "!ngrok authtoken 2vaf6AFGfMb9KmgkK1QjDn1mukl_5qP6QVzJtWiZeX9nar9G3\n",
        "from pyngrok import ngrok\n",
        "public_url = ngrok.connect(\"http://localhost:8501\")\n",
        "print(\"🚀 Your live app: \", public_url)\n",
        "!streamlit run app.py &>/dev/null &"
      ],
      "metadata": {
        "colab": {
          "base_uri": "https://localhost:8080/"
        },
        "id": "CR_icAx543bE",
        "outputId": "57ef3b7c-d3e1-40f7-d230-fa381f885e07"
      },
      "execution_count": 126,
      "outputs": [
        {
          "output_type": "stream",
          "name": "stdout",
          "text": [
            "Authtoken saved to configuration file: /root/.config/ngrok/ngrok.yml\n",
            "🚀 Your live app:  NgrokTunnel: \"https://7eec-104-199-178-216.ngrok-free.app\" -> \"http://localhost:8501\"\n"
          ]
        }
      ]
    }
  ]
}